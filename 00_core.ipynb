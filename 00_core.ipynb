{
 "cells": [
  {
   "cell_type": "code",
   "execution_count": null,
   "metadata": {},
   "outputs": [
    {
     "name": "stdout",
     "output_type": "stream",
     "text": [
      "The autoreload extension is already loaded. To reload it, use:\n",
      "  %reload_ext autoreload\n"
     ]
    }
   ],
   "source": [
    "# default_exp core\n",
    "%load_ext autoreload\n",
    "%autoreload 2"
   ]
  },
  {
   "cell_type": "markdown",
   "metadata": {},
   "source": [
    "# cython_berry_core\n",
    "\n",
    "> Cython interface for the Berry inversion routine."
   ]
  },
  {
   "cell_type": "code",
   "execution_count": null,
   "metadata": {},
   "outputs": [],
   "source": [
    "#hide\n",
    "from nbdev.showdoc import *\n"
   ]
  },
  {
   "cell_type": "markdown",
   "metadata": {},
   "source": [
    "We start from this core routine in Python, which works for $J$ products on one market, with specification\n",
    "$$\n",
    "\\bar{u}_j + X_{2j}\\varepsilon_i + \\xi_j + v_{ij}\n",
    "$$\n",
    "the idiosyncratic $v_{ij}$ is standard type-I EV and $\\varepsilon_i$ is $N(0,\\Sigma)$."
   ]
  },
  {
   "cell_type": "code",
   "execution_count": null,
   "metadata": {},
   "outputs": [],
   "source": [
    "#export\n",
    "\n",
    "import numpy as np\n",
    "import numpy.linalg as npla\n",
    "from typing import Tuple\n",
    "\n",
    "def npmaxabs(arr: np.ndarray) -> float:\n",
    "    return np.max(np.abs(arr))\n",
    "\n",
    "\n",
    "def simulated_shares(utils: np.array) -> np.array:\n",
    "    \"\"\"\n",
    "    return simulated shares for given simulated utilities\n",
    "\n",
    "    :param np.array utils: array `(nproducts, ndraws)`\n",
    "\n",
    "    :return: simulated shares `(nproducts, ndraws)`\n",
    "    \"\"\"\n",
    "    shares = np.exp(utils)\n",
    "    denom = 1.0 + np.sum(shares, 0)\n",
    "    shares = shares / denom\n",
    "    return shares\n",
    "\n",
    "\n",
    "def simulated_mean_shares(utils: np.array) -> np.array:\n",
    "    \"\"\"\n",
    "    return simulated mean shares for given simulated utilities\n",
    "\n",
    "    :param np.array utils: array `(nproducts, ndraws)`\n",
    "\n",
    "    :return: np.array simulated mean shares: array `(nproducts)`\n",
    "    \"\"\"\n",
    "    return np.mean(simulated_shares(utils), 1)\n",
    "\n",
    "def berry_core(shares: np.array, mean_u: np.array, X2: np.array,\n",
    "               Sigma: np.array, tol: float = 1e-9,\n",
    "               maxiter: int = 10000, ndraws: int = 10000, verbose: bool=False) -> Tuple[np.array, bool]:\n",
    "    \"\"\"\n",
    "    contraction to invert for product effects :math:`\\\\xi` from market shares\n",
    "\n",
    "    :param np.array shares: `nproducts` vector of observed market shares\n",
    "\n",
    "    :param np.array mean_u: `(nproducts)` vector of mean utilities\n",
    "\n",
    "    :param np.array X2: `(nproducts, nx2)` matrix of nonlinear covariates\n",
    "\n",
    "    :param np.array Sigma: `(nx2, nx2)` variance-covariance matrix of random coefficients on `X2`, \\\n",
    "    or `(nx2)` if diagonal\n",
    "\n",
    "    :param float tol: tolerance\n",
    "\n",
    "    :param int maxiter: max iterations\n",
    "\n",
    "    :param int ndraws: number of draws for simulation\n",
    "\n",
    "    :params bool verbose: print stuff if `True`\n",
    "\n",
    "    :return: `(nproducts)` vector of :math:`\\\\xi` values, and return code 0 if OK\n",
    "    \"\"\"\n",
    "    nproducts, nx2 = X2.shape\n",
    "    assert shares.size == nproducts, \"should have as many shares as rows in X2\"\n",
    "    assert mean_u.size == nproducts, \"should have as many mean utilities as rows in X2\"\n",
    "\n",
    "    if Sigma.ndim == 1 and Sigma.size == nx2:\n",
    "        assert np.min(Sigma) >= 0.0, \"berry_core: all elements of the diagonal Sigma should be positive or 0\"\n",
    "        Xsig = X2 * np.sqrt(Sigma)\n",
    "    elif Sigma.ndim == 2 and Sigma.shape == (nx2, nx2):\n",
    "        L = npla.cholesky(Sigma)\n",
    "        Xsig = X2 @ L\n",
    "    else:\n",
    "        print_stars(\"berry_core: Sigma should be (nx2, nx2) or (nx2)\")\n",
    "        sys.exit()\n",
    "\n",
    "    sum_shares = shares.sum()\n",
    "    market_zero_share = 1.0 - sum_shares\n",
    "\n",
    "    xi = np.log(shares / market_zero_share) - mean_u\n",
    "    max_err = np.Inf\n",
    "    retcode = 0\n",
    "    iter = 0\n",
    "    eps = np.random.normal(size=(nx2, ndraws))\n",
    "    while max_err > tol:\n",
    "        utils = (Xsig @ eps) + (mean_u + xi).reshape((-1, 1))\n",
    "        shares_sim = simulated_mean_shares(utils)\n",
    "        err_shares = shares - shares_sim\n",
    "        max_err = npmaxabs(err_shares)\n",
    "        if verbose and iter % 100 == 0:\n",
    "            print(f\"berry_core: error {max_err} after {iter} iterations\")\n",
    "        iter += 1\n",
    "        if iter > maxiter:\n",
    "            retcode = 1\n",
    "            break\n",
    "        xi += (np.log(shares) - np.log(shares_sim))\n",
    "    if verbose:\n",
    "        print_stars(f\"berry_core: error {max_err} after {iter} iterations\")\n",
    "    return xi, retcode"
   ]
  },
  {
   "cell_type": "markdown",
   "metadata": {},
   "source": [
    "Try an example:"
   ]
  },
  {
   "cell_type": "code",
   "execution_count": null,
   "metadata": {},
   "outputs": [
    {
     "name": "stdout",
     "output_type": "stream",
     "text": [
      "retcode = 0; xi is:\n",
      "[ 1.65303555 -1.95499726 -1.24101363]\n",
      "\n",
      "Observed and simulated mean shares:\n",
      "[[0.4        0.39343426]\n",
      " [0.2        0.19921765]\n",
      " [0.3        0.30699062]]\n"
     ]
    }
   ],
   "source": [
    "nproducts = 3\n",
    "shares = np.array([0.4, 0.2, 0.3])\n",
    "mean_u = np.array([-1.0, 1.0, 0.5])\n",
    "X2 = np.array([[1.0, -2.0], [0.5, 2.0], [-3.0, 1.0]])\n",
    "Sigma = np.array([[2.0, 0.5], [0.5, 1.0]])\n",
    "\n",
    "xi, retcode = berry_core(shares, mean_u, X2, Sigma)\n",
    "\n",
    "print(f\"retcode = {retcode}; xi is:\")\n",
    "print(xi)\n",
    "\n",
    "# checking\n",
    "L = npla.cholesky(Sigma)\n",
    "Xsig = X2 @ L\n",
    "eps = np.random.normal(size=(2, 10000))\n",
    "utils = (Xsig @ eps) + (mean_u + xi).reshape((-1, 1))\n",
    "sim_shares = simulated_mean_shares(utils)\n",
    "print(\"\\nObserved and simulated mean shares:\")\n",
    "print(np.column_stack((shares, sim_shares)))\n"
   ]
  },
  {
   "cell_type": "code",
   "execution_count": null,
   "metadata": {},
   "outputs": [
    {
     "name": "stdout",
     "output_type": "stream",
     "text": [
      "Converted 00_core.ipynb.\n",
      "Converted index.ipynb.\n"
     ]
    }
   ],
   "source": [
    "from nbdev.export import notebook2script; notebook2script()"
   ]
  },
  {
   "cell_type": "code",
   "execution_count": null,
   "metadata": {},
   "outputs": [],
   "source": []
  }
 ],
 "metadata": {
  "kernelspec": {
   "display_name": "Python 3",
   "language": "python",
   "name": "python3"
  }
 },
 "nbformat": 4,
 "nbformat_minor": 4
}
